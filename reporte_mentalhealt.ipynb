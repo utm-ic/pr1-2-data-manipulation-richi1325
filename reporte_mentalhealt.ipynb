{
 "cells": [
  {
   "cell_type": "markdown",
   "metadata": {
    "vscode": {
     "languageId": "plaintext"
    }
   },
   "source": [
    "**Autor: Jose Ricardo Mendoza Villar**  \n",
    "*371021 Proyecto Aplicado II*  \n",
    "Práctica 1.2. Manipulación de datos"
   ]
  },
  {
   "cell_type": "markdown",
   "metadata": {},
   "source": [
    "---\n",
    "# Practica 1.1. Manipulación de datos\n",
    "\n",
    "## Objetivo\n",
    "\n",
    "En esta práctica, aprenderás a aplicar técnicas de análisis de datos utilizando Pandas para explorar un dataset relacionado con la salud mental. El objetivo es que pongas en práctica tus habilidades de manipulación, limpieza y análisis de datos para obtener conclusiones interesantes."
   ]
  },
  {
   "cell_type": "markdown",
   "metadata": {},
   "source": [
    "---\n",
    "\n",
    "## Paso 1: Carga del Dataset\n",
    "\n",
    "Primero, vas a cargar el archivo CSV que contiene la información sobre diferentes factores que influyen en la salud mental. Utiliza la biblioteca Pandas para leer el archivo y observa las primeras filas del dataset. Esto te ayudará a familiarizarte con la información que vas a analizar."
   ]
  },
  {
   "cell_type": "code",
   "execution_count": 1,
   "metadata": {},
   "outputs": [],
   "source": [
    "import pandas as pd"
   ]
  },
  {
   "cell_type": "code",
   "execution_count": 2,
   "metadata": {},
   "outputs": [],
   "source": [
    "df_factores_salud_mental = pd.read_csv(\"dataset/mental_health.csv\")"
   ]
  },
  {
   "cell_type": "code",
   "execution_count": 3,
   "metadata": {},
   "outputs": [
    {
     "data": {
      "text/html": [
       "<div>\n",
       "<style scoped>\n",
       "    .dataframe tbody tr th:only-of-type {\n",
       "        vertical-align: middle;\n",
       "    }\n",
       "\n",
       "    .dataframe tbody tr th {\n",
       "        vertical-align: top;\n",
       "    }\n",
       "\n",
       "    .dataframe thead th {\n",
       "        text-align: right;\n",
       "    }\n",
       "</style>\n",
       "<table border=\"1\" class=\"dataframe\">\n",
       "  <thead>\n",
       "    <tr style=\"text-align: right;\">\n",
       "      <th></th>\n",
       "      <th>Age</th>\n",
       "      <th>Gender</th>\n",
       "      <th>Education_Level</th>\n",
       "      <th>Employment_Status</th>\n",
       "      <th>Sleep_Hours</th>\n",
       "      <th>Physical_Activity_Hrs</th>\n",
       "      <th>Social_Support_Score</th>\n",
       "      <th>Anxiety_Score</th>\n",
       "      <th>Depression_Score</th>\n",
       "      <th>Stress_Level</th>\n",
       "      <th>...</th>\n",
       "      <th>Chronic_Illnesses</th>\n",
       "      <th>Medication_Use</th>\n",
       "      <th>Therapy</th>\n",
       "      <th>Meditation</th>\n",
       "      <th>Substance_Use</th>\n",
       "      <th>Financial_Stress</th>\n",
       "      <th>Work_Stress</th>\n",
       "      <th>Self_Esteem_Score</th>\n",
       "      <th>Life_Satisfaction_Score</th>\n",
       "      <th>Loneliness_Score</th>\n",
       "    </tr>\n",
       "  </thead>\n",
       "  <tbody>\n",
       "    <tr>\n",
       "      <th>0</th>\n",
       "      <td>56</td>\n",
       "      <td>Male</td>\n",
       "      <td>Bachelor's</td>\n",
       "      <td>Unemployed</td>\n",
       "      <td>6.0</td>\n",
       "      <td>0.4</td>\n",
       "      <td>3</td>\n",
       "      <td>4</td>\n",
       "      <td>2</td>\n",
       "      <td>9</td>\n",
       "      <td>...</td>\n",
       "      <td>0</td>\n",
       "      <td>NaN</td>\n",
       "      <td>0</td>\n",
       "      <td>1</td>\n",
       "      <td>NaN</td>\n",
       "      <td>4</td>\n",
       "      <td>3</td>\n",
       "      <td>7</td>\n",
       "      <td>5</td>\n",
       "      <td>1</td>\n",
       "    </tr>\n",
       "    <tr>\n",
       "      <th>1</th>\n",
       "      <td>69</td>\n",
       "      <td>Female</td>\n",
       "      <td>Bachelor's</td>\n",
       "      <td>Retired</td>\n",
       "      <td>8.8</td>\n",
       "      <td>2.8</td>\n",
       "      <td>6</td>\n",
       "      <td>18</td>\n",
       "      <td>7</td>\n",
       "      <td>6</td>\n",
       "      <td>...</td>\n",
       "      <td>0</td>\n",
       "      <td>NaN</td>\n",
       "      <td>1</td>\n",
       "      <td>0</td>\n",
       "      <td>NaN</td>\n",
       "      <td>1</td>\n",
       "      <td>4</td>\n",
       "      <td>7</td>\n",
       "      <td>4</td>\n",
       "      <td>6</td>\n",
       "    </tr>\n",
       "    <tr>\n",
       "      <th>2</th>\n",
       "      <td>46</td>\n",
       "      <td>Female</td>\n",
       "      <td>Master's</td>\n",
       "      <td>Employed</td>\n",
       "      <td>5.3</td>\n",
       "      <td>1.6</td>\n",
       "      <td>5</td>\n",
       "      <td>5</td>\n",
       "      <td>13</td>\n",
       "      <td>8</td>\n",
       "      <td>...</td>\n",
       "      <td>0</td>\n",
       "      <td>NaN</td>\n",
       "      <td>0</td>\n",
       "      <td>1</td>\n",
       "      <td>NaN</td>\n",
       "      <td>8</td>\n",
       "      <td>7</td>\n",
       "      <td>8</td>\n",
       "      <td>1</td>\n",
       "      <td>1</td>\n",
       "    </tr>\n",
       "    <tr>\n",
       "      <th>3</th>\n",
       "      <td>32</td>\n",
       "      <td>Female</td>\n",
       "      <td>High School</td>\n",
       "      <td>Unemployed</td>\n",
       "      <td>8.8</td>\n",
       "      <td>0.5</td>\n",
       "      <td>4</td>\n",
       "      <td>6</td>\n",
       "      <td>3</td>\n",
       "      <td>4</td>\n",
       "      <td>...</td>\n",
       "      <td>1</td>\n",
       "      <td>NaN</td>\n",
       "      <td>0</td>\n",
       "      <td>0</td>\n",
       "      <td>NaN</td>\n",
       "      <td>7</td>\n",
       "      <td>4</td>\n",
       "      <td>8</td>\n",
       "      <td>4</td>\n",
       "      <td>4</td>\n",
       "    </tr>\n",
       "    <tr>\n",
       "      <th>4</th>\n",
       "      <td>60</td>\n",
       "      <td>Female</td>\n",
       "      <td>Bachelor's</td>\n",
       "      <td>Retired</td>\n",
       "      <td>7.2</td>\n",
       "      <td>0.7</td>\n",
       "      <td>2</td>\n",
       "      <td>7</td>\n",
       "      <td>15</td>\n",
       "      <td>3</td>\n",
       "      <td>...</td>\n",
       "      <td>0</td>\n",
       "      <td>NaN</td>\n",
       "      <td>1</td>\n",
       "      <td>1</td>\n",
       "      <td>Frequent</td>\n",
       "      <td>8</td>\n",
       "      <td>9</td>\n",
       "      <td>5</td>\n",
       "      <td>7</td>\n",
       "      <td>7</td>\n",
       "    </tr>\n",
       "  </tbody>\n",
       "</table>\n",
       "<p>5 rows × 21 columns</p>\n",
       "</div>"
      ],
      "text/plain": [
       "   Age  Gender Education_Level Employment_Status  Sleep_Hours   \n",
       "0   56    Male      Bachelor's        Unemployed          6.0  \\\n",
       "1   69  Female      Bachelor's           Retired          8.8   \n",
       "2   46  Female        Master's          Employed          5.3   \n",
       "3   32  Female     High School        Unemployed          8.8   \n",
       "4   60  Female      Bachelor's           Retired          7.2   \n",
       "\n",
       "   Physical_Activity_Hrs  Social_Support_Score  Anxiety_Score   \n",
       "0                    0.4                     3              4  \\\n",
       "1                    2.8                     6             18   \n",
       "2                    1.6                     5              5   \n",
       "3                    0.5                     4              6   \n",
       "4                    0.7                     2              7   \n",
       "\n",
       "   Depression_Score  Stress_Level  ...  Chronic_Illnesses  Medication_Use   \n",
       "0                 2             9  ...                  0             NaN  \\\n",
       "1                 7             6  ...                  0             NaN   \n",
       "2                13             8  ...                  0             NaN   \n",
       "3                 3             4  ...                  1             NaN   \n",
       "4                15             3  ...                  0             NaN   \n",
       "\n",
       "  Therapy  Meditation  Substance_Use Financial_Stress  Work_Stress   \n",
       "0       0           1            NaN                4            3  \\\n",
       "1       1           0            NaN                1            4   \n",
       "2       0           1            NaN                8            7   \n",
       "3       0           0            NaN                7            4   \n",
       "4       1           1       Frequent                8            9   \n",
       "\n",
       "   Self_Esteem_Score  Life_Satisfaction_Score  Loneliness_Score  \n",
       "0                  7                        5                 1  \n",
       "1                  7                        4                 6  \n",
       "2                  8                        1                 1  \n",
       "3                  8                        4                 4  \n",
       "4                  5                        7                 7  \n",
       "\n",
       "[5 rows x 21 columns]"
      ]
     },
     "execution_count": 3,
     "metadata": {},
     "output_type": "execute_result"
    }
   ],
   "source": [
    "df_factores_salud_mental.head()"
   ]
  },
  {
   "cell_type": "markdown",
   "metadata": {},
   "source": [
    "1. ¿Cuántos registros y columnas tiene el dataset?"
   ]
  },
  {
   "cell_type": "code",
   "execution_count": 4,
   "metadata": {},
   "outputs": [
    {
     "name": "stdout",
     "output_type": "stream",
     "text": [
      "Número de filas: 1200\n",
      "Número de columnas: 21\n"
     ]
    }
   ],
   "source": [
    "filas, columnas = df_factores_salud_mental.shape\n",
    "print(f\"Número de filas: {filas}\")\n",
    "print(f\"Número de columnas: {columnas}\")"
   ]
  },
  {
   "cell_type": "markdown",
   "metadata": {},
   "source": [
    "2. ¿Qué tipo de datos predominan?"
   ]
  },
  {
   "cell_type": "code",
   "execution_count": 5,
   "metadata": {},
   "outputs": [
    {
     "data": {
      "text/plain": [
       "int64      14\n",
       "object      5\n",
       "float64     2\n",
       "Name: count, dtype: int64"
      ]
     },
     "execution_count": 5,
     "metadata": {},
     "output_type": "execute_result"
    }
   ],
   "source": [
    "df_factores_salud_mental.dtypes.value_counts()"
   ]
  },
  {
   "cell_type": "markdown",
   "metadata": {},
   "source": [
    "---\n",
    "\n",
    "## Paso 2: Exploración Inicial\n",
    "\n",
    "Ahora que ya tienes los datos cargados, es momento de explorar un poco más. Consulta información general como el tipo de datos en cada columna, cuántos datos no nulos hay, y revisa las primeras filas. También obtén estadísticas básicas como la media y el rango de los datos. Esto te ayudará a detectar si algo llama la atención o si hay datos fuera de lo normal."
   ]
  },
  {
   "cell_type": "markdown",
   "metadata": {},
   "source": [
    "1. ¿Existen columnas que podrían ser categóricas pero aparecen como tipo `object`?"
   ]
  },
  {
   "cell_type": "code",
   "execution_count": 6,
   "metadata": {},
   "outputs": [],
   "source": [
    "df_factores_sm_text = df_factores_salud_mental.select_dtypes(include=['object'])"
   ]
  },
  {
   "cell_type": "code",
   "execution_count": 7,
   "metadata": {},
   "outputs": [
    {
     "name": "stdout",
     "output_type": "stream",
     "text": [
      "Valores únicos en Gender: ['Male', 'Female', 'Non-Binary', 'Other']\n",
      "Valores únicos en Education_Level: [\"Bachelor's\", \"Master's\", 'High, School', 'Other', 'PhD']\n",
      "Valores únicos en Employment_Status: ['Unemployed', 'Retired', 'Employed', 'Student']\n",
      "Valores únicos en Medication_Use: [nan, 'Occasional', 'Regular']\n",
      "Valores únicos en Substance_Use: [nan, 'Frequent', 'Occasional']\n"
     ]
    }
   ],
   "source": [
    "for col in df_factores_sm_text.columns:\n",
    "    print(f'Valores únicos en {col}: {str(df_factores_sm_text[col].unique()).replace(\" \", \", \")}')"
   ]
  },
  {
   "cell_type": "markdown",
   "metadata": {},
   "source": [
    "2. ¿Hay valores que parecen inconsistentes o fuera de rango?"
   ]
  },
  {
   "cell_type": "code",
   "execution_count": 8,
   "metadata": {},
   "outputs": [
    {
     "data": {
      "text/plain": [
       "Age                                0\n",
       "Gender                             0\n",
       "Education_Level                    0\n",
       "Employment_Status                  0\n",
       "Sleep_Hours                        0\n",
       "Physical_Activity_Hrs              0\n",
       "Social_Support_Score               0\n",
       "Anxiety_Score                      0\n",
       "Depression_Score                   0\n",
       "Stress_Level                       0\n",
       "Family_History_Mental_Illness      0\n",
       "Chronic_Illnesses                  0\n",
       "Medication_Use                   747\n",
       "Therapy                            0\n",
       "Meditation                         0\n",
       "Substance_Use                    834\n",
       "Financial_Stress                   0\n",
       "Work_Stress                        0\n",
       "Self_Esteem_Score                  0\n",
       "Life_Satisfaction_Score            0\n",
       "Loneliness_Score                   0\n",
       "dtype: int64"
      ]
     },
     "execution_count": 8,
     "metadata": {},
     "output_type": "execute_result"
    }
   ],
   "source": [
    "df_factores_salud_mental.isnull().sum()"
   ]
  },
  {
   "cell_type": "markdown",
   "metadata": {},
   "source": [
    "---\n",
    "\n",
    "## Paso 3: Limpieza de Datos\n",
    "\n",
    "Es hora de \"limpiar\" los datos. Revisa si hay valores nulos o datos duplicados. Decide qué hacer con ellos: ¿los eliminarás, los reemplazarás o aplicarás otra estrategia? También asegúrate de que los tipos de datos de cada columna son correctos y convierte aquellos que no estén en el formato adecuado."
   ]
  },
  {
   "cell_type": "markdown",
   "metadata": {},
   "source": [
    "1. ¿Qué porcentaje del dataset contiene valores nulos?"
   ]
  },
  {
   "cell_type": "code",
   "execution_count": 9,
   "metadata": {},
   "outputs": [
    {
     "name": "stdout",
     "output_type": "stream",
     "text": [
      "Medication_Use: 62.25% nulos\n",
      "Substance_Use: 69.5% nulos\n"
     ]
    }
   ],
   "source": [
    "for col in df_factores_salud_mental.columns:\n",
    "    if (cantidad_nulos := df_factores_salud_mental[col].isnull().sum()) > 0:\n",
    "        print(f\"{col}: {round(cantidad_nulos / df_factores_salud_mental.shape[0] * 100, 2)}% nulos\")"
   ]
  },
  {
   "cell_type": "code",
   "execution_count": 10,
   "metadata": {},
   "outputs": [
    {
     "name": "stdout",
     "output_type": "stream",
     "text": [
      "El dataset tiene en total: 88.33% registros con al menos una columna con presencia de nulos\n"
     ]
    }
   ],
   "source": [
    "total_reg_nulos = round(df_factores_salud_mental.isnull().any(axis=1).sum() / df_factores_salud_mental.shape[0] * 100, 2)\n",
    "print(f\"El dataset tiene en total: {total_reg_nulos}% registros con al menos una columna con presencia de nulos\")"
   ]
  },
  {
   "cell_type": "markdown",
   "metadata": {},
   "source": [
    "2. ¿Qué estrategia decidiste aplicar para tratar los valores nulos y por qué?"
   ]
  },
  {
   "cell_type": "markdown",
   "metadata": {},
   "source": [
    "En este caso, se encontró la presencia de valores nulos en 88.33% del dataset, especificamente en dos variables categóricas (Medication_Use y Substance_Use), si se optara por una estrategia de eliminar registros, esto dejaria un conjunto de datos muy pequeño y poco útil para el entrenamiento de un modelo, particularmente, estoy tomando los nulos como un categoria adicional, pensando que la falta de información también es información, para corregir el problema basta con hacer una conversión de string a category para manipular los valores dentro de la categoria."
   ]
  },
  {
   "cell_type": "code",
   "execution_count": 11,
   "metadata": {},
   "outputs": [],
   "source": [
    "for col in df_factores_sm_text.columns:\n",
    "    df_factores_salud_mental[col] = df_factores_salud_mental[col].astype('category')"
   ]
  },
  {
   "cell_type": "code",
   "execution_count": 12,
   "metadata": {},
   "outputs": [
    {
     "data": {
      "text/html": [
       "<div>\n",
       "<style scoped>\n",
       "    .dataframe tbody tr th:only-of-type {\n",
       "        vertical-align: middle;\n",
       "    }\n",
       "\n",
       "    .dataframe tbody tr th {\n",
       "        vertical-align: top;\n",
       "    }\n",
       "\n",
       "    .dataframe thead th {\n",
       "        text-align: right;\n",
       "    }\n",
       "</style>\n",
       "<table border=\"1\" class=\"dataframe\">\n",
       "  <thead>\n",
       "    <tr style=\"text-align: right;\">\n",
       "      <th></th>\n",
       "      <th>Age</th>\n",
       "      <th>Gender</th>\n",
       "      <th>Education_Level</th>\n",
       "      <th>Employment_Status</th>\n",
       "      <th>Sleep_Hours</th>\n",
       "      <th>Physical_Activity_Hrs</th>\n",
       "      <th>Social_Support_Score</th>\n",
       "      <th>Anxiety_Score</th>\n",
       "      <th>Depression_Score</th>\n",
       "      <th>Stress_Level</th>\n",
       "      <th>...</th>\n",
       "      <th>Chronic_Illnesses</th>\n",
       "      <th>Medication_Use</th>\n",
       "      <th>Therapy</th>\n",
       "      <th>Meditation</th>\n",
       "      <th>Substance_Use</th>\n",
       "      <th>Financial_Stress</th>\n",
       "      <th>Work_Stress</th>\n",
       "      <th>Self_Esteem_Score</th>\n",
       "      <th>Life_Satisfaction_Score</th>\n",
       "      <th>Loneliness_Score</th>\n",
       "    </tr>\n",
       "  </thead>\n",
       "  <tbody>\n",
       "    <tr>\n",
       "      <th>0</th>\n",
       "      <td>56</td>\n",
       "      <td>Male</td>\n",
       "      <td>Bachelor's</td>\n",
       "      <td>Unemployed</td>\n",
       "      <td>6.0</td>\n",
       "      <td>0.4</td>\n",
       "      <td>3</td>\n",
       "      <td>4</td>\n",
       "      <td>2</td>\n",
       "      <td>9</td>\n",
       "      <td>...</td>\n",
       "      <td>0</td>\n",
       "      <td>NaN</td>\n",
       "      <td>0</td>\n",
       "      <td>1</td>\n",
       "      <td>NaN</td>\n",
       "      <td>4</td>\n",
       "      <td>3</td>\n",
       "      <td>7</td>\n",
       "      <td>5</td>\n",
       "      <td>1</td>\n",
       "    </tr>\n",
       "    <tr>\n",
       "      <th>1</th>\n",
       "      <td>69</td>\n",
       "      <td>Female</td>\n",
       "      <td>Bachelor's</td>\n",
       "      <td>Retired</td>\n",
       "      <td>8.8</td>\n",
       "      <td>2.8</td>\n",
       "      <td>6</td>\n",
       "      <td>18</td>\n",
       "      <td>7</td>\n",
       "      <td>6</td>\n",
       "      <td>...</td>\n",
       "      <td>0</td>\n",
       "      <td>NaN</td>\n",
       "      <td>1</td>\n",
       "      <td>0</td>\n",
       "      <td>NaN</td>\n",
       "      <td>1</td>\n",
       "      <td>4</td>\n",
       "      <td>7</td>\n",
       "      <td>4</td>\n",
       "      <td>6</td>\n",
       "    </tr>\n",
       "    <tr>\n",
       "      <th>2</th>\n",
       "      <td>46</td>\n",
       "      <td>Female</td>\n",
       "      <td>Master's</td>\n",
       "      <td>Employed</td>\n",
       "      <td>5.3</td>\n",
       "      <td>1.6</td>\n",
       "      <td>5</td>\n",
       "      <td>5</td>\n",
       "      <td>13</td>\n",
       "      <td>8</td>\n",
       "      <td>...</td>\n",
       "      <td>0</td>\n",
       "      <td>NaN</td>\n",
       "      <td>0</td>\n",
       "      <td>1</td>\n",
       "      <td>NaN</td>\n",
       "      <td>8</td>\n",
       "      <td>7</td>\n",
       "      <td>8</td>\n",
       "      <td>1</td>\n",
       "      <td>1</td>\n",
       "    </tr>\n",
       "    <tr>\n",
       "      <th>3</th>\n",
       "      <td>32</td>\n",
       "      <td>Female</td>\n",
       "      <td>High School</td>\n",
       "      <td>Unemployed</td>\n",
       "      <td>8.8</td>\n",
       "      <td>0.5</td>\n",
       "      <td>4</td>\n",
       "      <td>6</td>\n",
       "      <td>3</td>\n",
       "      <td>4</td>\n",
       "      <td>...</td>\n",
       "      <td>1</td>\n",
       "      <td>NaN</td>\n",
       "      <td>0</td>\n",
       "      <td>0</td>\n",
       "      <td>NaN</td>\n",
       "      <td>7</td>\n",
       "      <td>4</td>\n",
       "      <td>8</td>\n",
       "      <td>4</td>\n",
       "      <td>4</td>\n",
       "    </tr>\n",
       "    <tr>\n",
       "      <th>4</th>\n",
       "      <td>60</td>\n",
       "      <td>Female</td>\n",
       "      <td>Bachelor's</td>\n",
       "      <td>Retired</td>\n",
       "      <td>7.2</td>\n",
       "      <td>0.7</td>\n",
       "      <td>2</td>\n",
       "      <td>7</td>\n",
       "      <td>15</td>\n",
       "      <td>3</td>\n",
       "      <td>...</td>\n",
       "      <td>0</td>\n",
       "      <td>NaN</td>\n",
       "      <td>1</td>\n",
       "      <td>1</td>\n",
       "      <td>Frequent</td>\n",
       "      <td>8</td>\n",
       "      <td>9</td>\n",
       "      <td>5</td>\n",
       "      <td>7</td>\n",
       "      <td>7</td>\n",
       "    </tr>\n",
       "  </tbody>\n",
       "</table>\n",
       "<p>5 rows × 21 columns</p>\n",
       "</div>"
      ],
      "text/plain": [
       "   Age  Gender Education_Level Employment_Status  Sleep_Hours   \n",
       "0   56    Male      Bachelor's        Unemployed          6.0  \\\n",
       "1   69  Female      Bachelor's           Retired          8.8   \n",
       "2   46  Female        Master's          Employed          5.3   \n",
       "3   32  Female     High School        Unemployed          8.8   \n",
       "4   60  Female      Bachelor's           Retired          7.2   \n",
       "\n",
       "   Physical_Activity_Hrs  Social_Support_Score  Anxiety_Score   \n",
       "0                    0.4                     3              4  \\\n",
       "1                    2.8                     6             18   \n",
       "2                    1.6                     5              5   \n",
       "3                    0.5                     4              6   \n",
       "4                    0.7                     2              7   \n",
       "\n",
       "   Depression_Score  Stress_Level  ...  Chronic_Illnesses  Medication_Use   \n",
       "0                 2             9  ...                  0             NaN  \\\n",
       "1                 7             6  ...                  0             NaN   \n",
       "2                13             8  ...                  0             NaN   \n",
       "3                 3             4  ...                  1             NaN   \n",
       "4                15             3  ...                  0             NaN   \n",
       "\n",
       "  Therapy  Meditation  Substance_Use Financial_Stress  Work_Stress   \n",
       "0       0           1            NaN                4            3  \\\n",
       "1       1           0            NaN                1            4   \n",
       "2       0           1            NaN                8            7   \n",
       "3       0           0            NaN                7            4   \n",
       "4       1           1       Frequent                8            9   \n",
       "\n",
       "   Self_Esteem_Score  Life_Satisfaction_Score  Loneliness_Score  \n",
       "0                  7                        5                 1  \n",
       "1                  7                        4                 6  \n",
       "2                  8                        1                 1  \n",
       "3                  8                        4                 4  \n",
       "4                  5                        7                 7  \n",
       "\n",
       "[5 rows x 21 columns]"
      ]
     },
     "execution_count": 12,
     "metadata": {},
     "output_type": "execute_result"
    }
   ],
   "source": [
    "df_factores_salud_mental.head(5)"
   ]
  },
  {
   "cell_type": "markdown",
   "metadata": {},
   "source": [
    "---\n",
    "\n",
    "## Paso 4: Análisis Estadístico\n",
    "\n",
    "En este paso, vas a calcular algunas estadísticas básicas para tres columnas importantes: `Anxiety_Score`, `Depression_Score` y `Stress_Level`. Queremos saber cuál es la media, la mediana y la desviación estándar de estos valores. Esto te permitirá tener una idea general sobre cómo están distribuidos estos puntajes."
   ]
  },
  {
   "cell_type": "code",
   "execution_count": 13,
   "metadata": {},
   "outputs": [
    {
     "data": {
      "text/html": [
       "<div>\n",
       "<style scoped>\n",
       "    .dataframe tbody tr th:only-of-type {\n",
       "        vertical-align: middle;\n",
       "    }\n",
       "\n",
       "    .dataframe tbody tr th {\n",
       "        vertical-align: top;\n",
       "    }\n",
       "\n",
       "    .dataframe thead th {\n",
       "        text-align: right;\n",
       "    }\n",
       "</style>\n",
       "<table border=\"1\" class=\"dataframe\">\n",
       "  <thead>\n",
       "    <tr style=\"text-align: right;\">\n",
       "      <th></th>\n",
       "      <th>Anxiety_Score</th>\n",
       "      <th>Depression_Score</th>\n",
       "      <th>Stress_Level</th>\n",
       "    </tr>\n",
       "  </thead>\n",
       "  <tbody>\n",
       "    <tr>\n",
       "      <th>mean</th>\n",
       "      <td>10.470000</td>\n",
       "      <td>10.674167</td>\n",
       "      <td>5.000833</td>\n",
       "    </tr>\n",
       "    <tr>\n",
       "      <th>median</th>\n",
       "      <td>10.500000</td>\n",
       "      <td>11.000000</td>\n",
       "      <td>5.000000</td>\n",
       "    </tr>\n",
       "    <tr>\n",
       "      <th>std</th>\n",
       "      <td>5.911138</td>\n",
       "      <td>5.632889</td>\n",
       "      <td>2.538281</td>\n",
       "    </tr>\n",
       "  </tbody>\n",
       "</table>\n",
       "</div>"
      ],
      "text/plain": [
       "        Anxiety_Score  Depression_Score  Stress_Level\n",
       "mean        10.470000         10.674167      5.000833\n",
       "median      10.500000         11.000000      5.000000\n",
       "std          5.911138          5.632889      2.538281"
      ]
     },
     "execution_count": 13,
     "metadata": {},
     "output_type": "execute_result"
    }
   ],
   "source": [
    "df_factores_salud_mental[\n",
    "    [\"Anxiety_Score\", \"Depression_Score\", \"Stress_Level\"]\n",
    "].agg(\n",
    "    [\"mean\", \"median\", \"std\"]\n",
    ")"
   ]
  },
  {
   "cell_type": "markdown",
   "metadata": {},
   "source": [
    "1. ¿Cuál de los tres puntajes tiene mayor variabilidad?  \n",
    "La variable Anxiety_Score es la que cuenta con más variabilidad, tiene la desviación estandár más alta"
   ]
  },
  {
   "cell_type": "markdown",
   "metadata": {},
   "source": [
    "2. ¿Qué observas sobre la diferencia entre media y mediana en cada caso? ¿Qué te dice esto sobre la distribución?  \n",
    "Para el caso de Anxiety_Score, Stress_Level se aprecian métricas muy cercanas entre si, lo que nos indicaria una distribución simétrica,  \n",
    "Para el caso de Depression_Score se puede notar una mediana > media lo que indicadira una asimetría a la izquierda."
   ]
  },
  {
   "cell_type": "markdown",
   "metadata": {},
   "source": [
    "---\n",
    "\n",
    "## Paso 5: Filtrado de Datos\n",
    "\n",
    "Aquí vas a enfocarte en subconjuntos específicos del dataset. Primero, identifica a las personas que tienen un puntaje alto en ansiedad (puedes elegir un valor alto, como por encima de 80). Luego, clasifica a las personas según las horas de sueño que reportan (menos de 5 horas, entre 5 y 7 horas, y más de 7 horas) y analiza cómo varía el nivel de estrés en cada grupo."
   ]
  },
  {
   "cell_type": "code",
   "execution_count": 14,
   "metadata": {},
   "outputs": [
    {
     "name": "stderr",
     "output_type": "stream",
     "text": [
      "/tmp/ipykernel_16435/788615312.py:2: SettingWithCopyWarning: \n",
      "A value is trying to be set on a copy of a slice from a DataFrame.\n",
      "Try using .loc[row_indexer,col_indexer] = value instead\n",
      "\n",
      "See the caveats in the documentation: https://pandas.pydata.org/pandas-docs/stable/user_guide/indexing.html#returning-a-view-versus-a-copy\n",
      "  df_fact_sm_high_ansiety.loc[:, \"Sleep_Groups\"] = pd.cut(df_fact_sm_high_ansiety[\"Sleep_Hours\"], [0, 5 , 7, float(\"inf\")], labels=[\"0-5\", \"5-7\", \"7+\"])\n"
     ]
    }
   ],
   "source": [
    "df_fact_sm_high_ansiety = df_factores_salud_mental[df_factores_salud_mental[\"Anxiety_Score\"] >= df_factores_salud_mental[\"Anxiety_Score\"].quantile(0.8)]\n",
    "df_fact_sm_high_ansiety.loc[:, \"Sleep_Groups\"] = pd.cut(df_fact_sm_high_ansiety[\"Sleep_Hours\"], [0, 5 , 7, float(\"inf\")], labels=[\"0-5\", \"5-7\", \"7+\"])"
   ]
  },
  {
   "cell_type": "code",
   "execution_count": 15,
   "metadata": {},
   "outputs": [
    {
     "data": {
      "text/html": [
       "<div>\n",
       "<style scoped>\n",
       "    .dataframe tbody tr th:only-of-type {\n",
       "        vertical-align: middle;\n",
       "    }\n",
       "\n",
       "    .dataframe tbody tr th {\n",
       "        vertical-align: top;\n",
       "    }\n",
       "\n",
       "    .dataframe thead tr th {\n",
       "        text-align: left;\n",
       "    }\n",
       "\n",
       "    .dataframe thead tr:last-of-type th {\n",
       "        text-align: right;\n",
       "    }\n",
       "</style>\n",
       "<table border=\"1\" class=\"dataframe\">\n",
       "  <thead>\n",
       "    <tr>\n",
       "      <th></th>\n",
       "      <th colspan=\"4\" halign=\"left\">Stress_Level</th>\n",
       "    </tr>\n",
       "    <tr>\n",
       "      <th></th>\n",
       "      <th>mean</th>\n",
       "      <th>median</th>\n",
       "      <th>std</th>\n",
       "      <th>size</th>\n",
       "    </tr>\n",
       "    <tr>\n",
       "      <th>Sleep_Groups</th>\n",
       "      <th></th>\n",
       "      <th></th>\n",
       "      <th></th>\n",
       "      <th></th>\n",
       "    </tr>\n",
       "  </thead>\n",
       "  <tbody>\n",
       "    <tr>\n",
       "      <th>0-5</th>\n",
       "      <td>5.976744</td>\n",
       "      <td>6.0</td>\n",
       "      <td>2.473559</td>\n",
       "      <td>43</td>\n",
       "    </tr>\n",
       "    <tr>\n",
       "      <th>5-7</th>\n",
       "      <td>4.672414</td>\n",
       "      <td>5.0</td>\n",
       "      <td>2.462858</td>\n",
       "      <td>116</td>\n",
       "    </tr>\n",
       "    <tr>\n",
       "      <th>7+</th>\n",
       "      <td>5.365591</td>\n",
       "      <td>6.0</td>\n",
       "      <td>2.408251</td>\n",
       "      <td>93</td>\n",
       "    </tr>\n",
       "  </tbody>\n",
       "</table>\n",
       "</div>"
      ],
      "text/plain": [
       "             Stress_Level                      \n",
       "                     mean median       std size\n",
       "Sleep_Groups                                   \n",
       "0-5              5.976744    6.0  2.473559   43\n",
       "5-7              4.672414    5.0  2.462858  116\n",
       "7+               5.365591    6.0  2.408251   93"
      ]
     },
     "execution_count": 15,
     "metadata": {},
     "output_type": "execute_result"
    }
   ],
   "source": [
    "df_fact_sm_high_ansiety[\n",
    "    [\"Sleep_Groups\", \"Stress_Level\"]\n",
    "].groupby(\n",
    "    \"Sleep_Groups\"\n",
    ").agg(\n",
    "    [\"mean\", \"median\", \"std\", \"size\"]\n",
    ")"
   ]
  },
  {
   "cell_type": "markdown",
   "metadata": {},
   "source": [
    "1. ¿Qué porcentaje del total presenta niveles altos de ansiedad?"
   ]
  },
  {
   "cell_type": "code",
   "execution_count": 16,
   "metadata": {},
   "outputs": [
    {
     "name": "stdout",
     "output_type": "stream",
     "text": [
      "0.21% de la muestra con niveles altos de ansiedad (> 17.0)\n"
     ]
    }
   ],
   "source": [
    "print(f'{df_fact_sm_high_ansiety.shape[0] / df_factores_salud_mental.shape[0]}% de la muestra con niveles altos de ansiedad (> {df_factores_salud_mental[\"Anxiety_Score\"].quantile(0.8)})')"
   ]
  },
  {
   "cell_type": "markdown",
   "metadata": {},
   "source": [
    "2. ¿Existe una relación visible entre las horas de sueño y el nivel de estrés?"
   ]
  },
  {
   "cell_type": "code",
   "execution_count": 17,
   "metadata": {},
   "outputs": [],
   "source": [
    "def pruebaDiferenciaMedias(grupo1, grupo2):\n",
    "    import scipy.stats as stats\n",
    "\n",
    "\n",
    "    t_stat, p_value = stats.ttest_ind(\n",
    "        grupo1,\n",
    "        grupo2,\n",
    "        equal_var=False\n",
    "    ) \n",
    "\n",
    "    print(f\"Estadístico t: {t_stat:.4f}\")\n",
    "    print(f\"Valor p: {p_value:.4f}\")\n",
    "\n",
    "    alpha = 0.05\n",
    "    if p_value < alpha:\n",
    "        print(\"Rechazamos la hipótesis nula: Hay una diferencia significativa de medias.\")\n",
    "    else:\n",
    "        print(\"No se puede rechazar la hipótesis nula: No hay evidencia suficiente de diferencia de medias.\")"
   ]
  },
  {
   "cell_type": "code",
   "execution_count": 18,
   "metadata": {},
   "outputs": [
    {
     "name": "stdout",
     "output_type": "stream",
     "text": [
      "--------------------------------------------------\n",
      "Diferencia grupo 0-5 vs 5-7\n",
      "Estadístico t: 2.9569\n",
      "Valor p: 0.0042\n",
      "Rechazamos la hipótesis nula: Hay una diferencia significativa de medias.\n",
      "--------------------------------------------------\n",
      "Diferencia grupo 0-5 vs 7+\n",
      "Estadístico t: 1.3510\n",
      "Valor p: 0.1805\n",
      "No se puede rechazar la hipótesis nula: No hay evidencia suficiente de diferencia de medias.\n",
      "--------------------------------------------------\n",
      "Diferencia grupo 5-7 vs 7+\n",
      "Estadístico t: -2.0472\n",
      "Valor p: 0.0420\n",
      "Rechazamos la hipótesis nula: Hay una diferencia significativa de medias.\n"
     ]
    }
   ],
   "source": [
    "print(\"-\"*50)\n",
    "print(\"Diferencia grupo 0-5 vs 5-7\")\n",
    "pruebaDiferenciaMedias(\n",
    "    df_fact_sm_high_ansiety[df_fact_sm_high_ansiety[\"Sleep_Groups\"] == \"0-5\"][\"Stress_Level\"],\n",
    "    df_fact_sm_high_ansiety[df_fact_sm_high_ansiety[\"Sleep_Groups\"] == \"5-7\"][\"Stress_Level\"]\n",
    ")\n",
    "\n",
    "print(\"-\"*50)\n",
    "print(\"Diferencia grupo 0-5 vs 7+\")\n",
    "pruebaDiferenciaMedias(\n",
    "    df_fact_sm_high_ansiety[df_fact_sm_high_ansiety[\"Sleep_Groups\"] == \"0-5\"][\"Stress_Level\"],\n",
    "    df_fact_sm_high_ansiety[df_fact_sm_high_ansiety[\"Sleep_Groups\"] == \"7+\"][\"Stress_Level\"]\n",
    ")\n",
    "\n",
    "print(\"-\"*50)\n",
    "print(\"Diferencia grupo 5-7 vs 7+\")\n",
    "pruebaDiferenciaMedias(\n",
    "    df_fact_sm_high_ansiety[df_fact_sm_high_ansiety[\"Sleep_Groups\"] == \"5-7\"][\"Stress_Level\"],\n",
    "    df_fact_sm_high_ansiety[df_fact_sm_high_ansiety[\"Sleep_Groups\"] == \"7+\"][\"Stress_Level\"]\n",
    ")   "
   ]
  },
  {
   "cell_type": "markdown",
   "metadata": {},
   "source": [
    "Las personas que duermen entre 0-5 horas y las que duermen entre 5-7 horas tienen niveles de estrés significativamente diferentes, lo que podría indicar que la falta de sueño en el rango 0-5 horas tiene un impacto mayor sobre el estrés que dormir entre 5-7 horas.\n",
    "\n",
    "Entre los grupos que duermen entre 5-7 horas y los que duermen más de 7 horas, también se observa una diferencia significativa, lo que podría indicar que dormir más de 7 horas podría reducir el nivel de estrés comparado con dormir entre 5-7 horas."
   ]
  },
  {
   "cell_type": "markdown",
   "metadata": {},
   "source": [
    "---\n",
    "\n",
    "## Paso 6: Ordenamiento\n",
    "\n",
    "Ahora vas a ordenar el dataset para encontrar a las personas con mayor satisfacción de vida y menor puntaje de soledad. ¿Puedes descubrir algún patrón? ¿Qué tienen en común estas personas?"
   ]
  },
  {
   "cell_type": "code",
   "execution_count": 19,
   "metadata": {},
   "outputs": [
    {
     "data": {
      "text/html": [
       "<div>\n",
       "<style scoped>\n",
       "    .dataframe tbody tr th:only-of-type {\n",
       "        vertical-align: middle;\n",
       "    }\n",
       "\n",
       "    .dataframe tbody tr th {\n",
       "        vertical-align: top;\n",
       "    }\n",
       "\n",
       "    .dataframe thead th {\n",
       "        text-align: right;\n",
       "    }\n",
       "</style>\n",
       "<table border=\"1\" class=\"dataframe\">\n",
       "  <thead>\n",
       "    <tr style=\"text-align: right;\">\n",
       "      <th></th>\n",
       "      <th>Age</th>\n",
       "      <th>Gender</th>\n",
       "      <th>Education_Level</th>\n",
       "      <th>Employment_Status</th>\n",
       "      <th>Sleep_Hours</th>\n",
       "      <th>Physical_Activity_Hrs</th>\n",
       "      <th>Social_Support_Score</th>\n",
       "      <th>Anxiety_Score</th>\n",
       "      <th>Depression_Score</th>\n",
       "      <th>Stress_Level</th>\n",
       "      <th>...</th>\n",
       "      <th>Chronic_Illnesses</th>\n",
       "      <th>Medication_Use</th>\n",
       "      <th>Therapy</th>\n",
       "      <th>Meditation</th>\n",
       "      <th>Substance_Use</th>\n",
       "      <th>Financial_Stress</th>\n",
       "      <th>Work_Stress</th>\n",
       "      <th>Self_Esteem_Score</th>\n",
       "      <th>Life_Satisfaction_Score</th>\n",
       "      <th>Loneliness_Score</th>\n",
       "    </tr>\n",
       "  </thead>\n",
       "  <tbody>\n",
       "    <tr>\n",
       "      <th>14</th>\n",
       "      <td>53</td>\n",
       "      <td>Male</td>\n",
       "      <td>Bachelor's</td>\n",
       "      <td>Employed</td>\n",
       "      <td>4.9</td>\n",
       "      <td>1.5</td>\n",
       "      <td>5</td>\n",
       "      <td>17</td>\n",
       "      <td>4</td>\n",
       "      <td>6</td>\n",
       "      <td>...</td>\n",
       "      <td>0</td>\n",
       "      <td>NaN</td>\n",
       "      <td>0</td>\n",
       "      <td>1</td>\n",
       "      <td>Occasional</td>\n",
       "      <td>8</td>\n",
       "      <td>4</td>\n",
       "      <td>6</td>\n",
       "      <td>9</td>\n",
       "      <td>1</td>\n",
       "    </tr>\n",
       "    <tr>\n",
       "      <th>33</th>\n",
       "      <td>44</td>\n",
       "      <td>Male</td>\n",
       "      <td>Bachelor's</td>\n",
       "      <td>Employed</td>\n",
       "      <td>7.2</td>\n",
       "      <td>1.7</td>\n",
       "      <td>3</td>\n",
       "      <td>4</td>\n",
       "      <td>4</td>\n",
       "      <td>8</td>\n",
       "      <td>...</td>\n",
       "      <td>0</td>\n",
       "      <td>NaN</td>\n",
       "      <td>0</td>\n",
       "      <td>0</td>\n",
       "      <td>NaN</td>\n",
       "      <td>6</td>\n",
       "      <td>6</td>\n",
       "      <td>7</td>\n",
       "      <td>9</td>\n",
       "      <td>1</td>\n",
       "    </tr>\n",
       "    <tr>\n",
       "      <th>83</th>\n",
       "      <td>61</td>\n",
       "      <td>Female</td>\n",
       "      <td>PhD</td>\n",
       "      <td>Unemployed</td>\n",
       "      <td>5.7</td>\n",
       "      <td>1.8</td>\n",
       "      <td>4</td>\n",
       "      <td>17</td>\n",
       "      <td>20</td>\n",
       "      <td>9</td>\n",
       "      <td>...</td>\n",
       "      <td>0</td>\n",
       "      <td>NaN</td>\n",
       "      <td>0</td>\n",
       "      <td>1</td>\n",
       "      <td>NaN</td>\n",
       "      <td>7</td>\n",
       "      <td>8</td>\n",
       "      <td>6</td>\n",
       "      <td>9</td>\n",
       "      <td>1</td>\n",
       "    </tr>\n",
       "    <tr>\n",
       "      <th>92</th>\n",
       "      <td>31</td>\n",
       "      <td>Female</td>\n",
       "      <td>PhD</td>\n",
       "      <td>Employed</td>\n",
       "      <td>6.8</td>\n",
       "      <td>0.4</td>\n",
       "      <td>8</td>\n",
       "      <td>20</td>\n",
       "      <td>18</td>\n",
       "      <td>5</td>\n",
       "      <td>...</td>\n",
       "      <td>0</td>\n",
       "      <td>NaN</td>\n",
       "      <td>0</td>\n",
       "      <td>0</td>\n",
       "      <td>Occasional</td>\n",
       "      <td>1</td>\n",
       "      <td>5</td>\n",
       "      <td>4</td>\n",
       "      <td>9</td>\n",
       "      <td>1</td>\n",
       "    </tr>\n",
       "    <tr>\n",
       "      <th>103</th>\n",
       "      <td>43</td>\n",
       "      <td>Female</td>\n",
       "      <td>Other</td>\n",
       "      <td>Student</td>\n",
       "      <td>5.5</td>\n",
       "      <td>5.1</td>\n",
       "      <td>9</td>\n",
       "      <td>12</td>\n",
       "      <td>6</td>\n",
       "      <td>6</td>\n",
       "      <td>...</td>\n",
       "      <td>0</td>\n",
       "      <td>Occasional</td>\n",
       "      <td>1</td>\n",
       "      <td>0</td>\n",
       "      <td>NaN</td>\n",
       "      <td>6</td>\n",
       "      <td>8</td>\n",
       "      <td>8</td>\n",
       "      <td>9</td>\n",
       "      <td>1</td>\n",
       "    </tr>\n",
       "    <tr>\n",
       "      <th>217</th>\n",
       "      <td>25</td>\n",
       "      <td>Female</td>\n",
       "      <td>Master's</td>\n",
       "      <td>Employed</td>\n",
       "      <td>6.9</td>\n",
       "      <td>3.4</td>\n",
       "      <td>4</td>\n",
       "      <td>15</td>\n",
       "      <td>5</td>\n",
       "      <td>1</td>\n",
       "      <td>...</td>\n",
       "      <td>0</td>\n",
       "      <td>NaN</td>\n",
       "      <td>0</td>\n",
       "      <td>0</td>\n",
       "      <td>Occasional</td>\n",
       "      <td>3</td>\n",
       "      <td>5</td>\n",
       "      <td>6</td>\n",
       "      <td>9</td>\n",
       "      <td>1</td>\n",
       "    </tr>\n",
       "    <tr>\n",
       "      <th>262</th>\n",
       "      <td>49</td>\n",
       "      <td>Female</td>\n",
       "      <td>High School</td>\n",
       "      <td>Retired</td>\n",
       "      <td>3.6</td>\n",
       "      <td>0.7</td>\n",
       "      <td>6</td>\n",
       "      <td>14</td>\n",
       "      <td>15</td>\n",
       "      <td>6</td>\n",
       "      <td>...</td>\n",
       "      <td>0</td>\n",
       "      <td>NaN</td>\n",
       "      <td>0</td>\n",
       "      <td>0</td>\n",
       "      <td>NaN</td>\n",
       "      <td>3</td>\n",
       "      <td>2</td>\n",
       "      <td>4</td>\n",
       "      <td>9</td>\n",
       "      <td>1</td>\n",
       "    </tr>\n",
       "    <tr>\n",
       "      <th>391</th>\n",
       "      <td>44</td>\n",
       "      <td>Other</td>\n",
       "      <td>PhD</td>\n",
       "      <td>Retired</td>\n",
       "      <td>7.4</td>\n",
       "      <td>2.4</td>\n",
       "      <td>4</td>\n",
       "      <td>7</td>\n",
       "      <td>7</td>\n",
       "      <td>4</td>\n",
       "      <td>...</td>\n",
       "      <td>1</td>\n",
       "      <td>Regular</td>\n",
       "      <td>1</td>\n",
       "      <td>0</td>\n",
       "      <td>Occasional</td>\n",
       "      <td>3</td>\n",
       "      <td>4</td>\n",
       "      <td>3</td>\n",
       "      <td>9</td>\n",
       "      <td>1</td>\n",
       "    </tr>\n",
       "    <tr>\n",
       "      <th>438</th>\n",
       "      <td>41</td>\n",
       "      <td>Female</td>\n",
       "      <td>Master's</td>\n",
       "      <td>Employed</td>\n",
       "      <td>5.4</td>\n",
       "      <td>0.2</td>\n",
       "      <td>1</td>\n",
       "      <td>18</td>\n",
       "      <td>9</td>\n",
       "      <td>8</td>\n",
       "      <td>...</td>\n",
       "      <td>0</td>\n",
       "      <td>NaN</td>\n",
       "      <td>0</td>\n",
       "      <td>1</td>\n",
       "      <td>NaN</td>\n",
       "      <td>2</td>\n",
       "      <td>6</td>\n",
       "      <td>4</td>\n",
       "      <td>9</td>\n",
       "      <td>1</td>\n",
       "    </tr>\n",
       "    <tr>\n",
       "      <th>675</th>\n",
       "      <td>29</td>\n",
       "      <td>Male</td>\n",
       "      <td>Other</td>\n",
       "      <td>Unemployed</td>\n",
       "      <td>8.0</td>\n",
       "      <td>0.4</td>\n",
       "      <td>3</td>\n",
       "      <td>7</td>\n",
       "      <td>9</td>\n",
       "      <td>8</td>\n",
       "      <td>...</td>\n",
       "      <td>0</td>\n",
       "      <td>NaN</td>\n",
       "      <td>0</td>\n",
       "      <td>0</td>\n",
       "      <td>NaN</td>\n",
       "      <td>8</td>\n",
       "      <td>5</td>\n",
       "      <td>5</td>\n",
       "      <td>9</td>\n",
       "      <td>1</td>\n",
       "    </tr>\n",
       "  </tbody>\n",
       "</table>\n",
       "<p>10 rows × 21 columns</p>\n",
       "</div>"
      ],
      "text/plain": [
       "     Age  Gender Education_Level Employment_Status  Sleep_Hours   \n",
       "14    53    Male      Bachelor's          Employed          4.9  \\\n",
       "33    44    Male      Bachelor's          Employed          7.2   \n",
       "83    61  Female             PhD        Unemployed          5.7   \n",
       "92    31  Female             PhD          Employed          6.8   \n",
       "103   43  Female           Other           Student          5.5   \n",
       "217   25  Female        Master's          Employed          6.9   \n",
       "262   49  Female     High School           Retired          3.6   \n",
       "391   44   Other             PhD           Retired          7.4   \n",
       "438   41  Female        Master's          Employed          5.4   \n",
       "675   29    Male           Other        Unemployed          8.0   \n",
       "\n",
       "     Physical_Activity_Hrs  Social_Support_Score  Anxiety_Score   \n",
       "14                     1.5                     5             17  \\\n",
       "33                     1.7                     3              4   \n",
       "83                     1.8                     4             17   \n",
       "92                     0.4                     8             20   \n",
       "103                    5.1                     9             12   \n",
       "217                    3.4                     4             15   \n",
       "262                    0.7                     6             14   \n",
       "391                    2.4                     4              7   \n",
       "438                    0.2                     1             18   \n",
       "675                    0.4                     3              7   \n",
       "\n",
       "     Depression_Score  Stress_Level  ...  Chronic_Illnesses  Medication_Use   \n",
       "14                  4             6  ...                  0             NaN  \\\n",
       "33                  4             8  ...                  0             NaN   \n",
       "83                 20             9  ...                  0             NaN   \n",
       "92                 18             5  ...                  0             NaN   \n",
       "103                 6             6  ...                  0      Occasional   \n",
       "217                 5             1  ...                  0             NaN   \n",
       "262                15             6  ...                  0             NaN   \n",
       "391                 7             4  ...                  1         Regular   \n",
       "438                 9             8  ...                  0             NaN   \n",
       "675                 9             8  ...                  0             NaN   \n",
       "\n",
       "    Therapy  Meditation  Substance_Use Financial_Stress  Work_Stress   \n",
       "14        0           1     Occasional                8            4  \\\n",
       "33        0           0            NaN                6            6   \n",
       "83        0           1            NaN                7            8   \n",
       "92        0           0     Occasional                1            5   \n",
       "103       1           0            NaN                6            8   \n",
       "217       0           0     Occasional                3            5   \n",
       "262       0           0            NaN                3            2   \n",
       "391       1           0     Occasional                3            4   \n",
       "438       0           1            NaN                2            6   \n",
       "675       0           0            NaN                8            5   \n",
       "\n",
       "     Self_Esteem_Score  Life_Satisfaction_Score  Loneliness_Score  \n",
       "14                   6                        9                 1  \n",
       "33                   7                        9                 1  \n",
       "83                   6                        9                 1  \n",
       "92                   4                        9                 1  \n",
       "103                  8                        9                 1  \n",
       "217                  6                        9                 1  \n",
       "262                  4                        9                 1  \n",
       "391                  3                        9                 1  \n",
       "438                  4                        9                 1  \n",
       "675                  5                        9                 1  \n",
       "\n",
       "[10 rows x 21 columns]"
      ]
     },
     "execution_count": 19,
     "metadata": {},
     "output_type": "execute_result"
    }
   ],
   "source": [
    "df_sorted = df_factores_salud_mental.sort_values(by=[\"Life_Satisfaction_Score\", \"Loneliness_Score\"], ascending=[False, True])\n",
    "\n",
    "df_sorted.head(10)"
   ]
  },
  {
   "cell_type": "markdown",
   "metadata": {},
   "source": [
    "1. ¿Qué características comunes encuentras en estas 10 personas?\n",
    "Las personas tiene un grado académico de licenciatura o superior, cuentan con un empleo / jubilados o se encuentran estudiando, en general duermen de 5 a 7 horas o más, no realizan meditación o van a terapia en promedio."
   ]
  },
  {
   "cell_type": "markdown",
   "metadata": {},
   "source": [
    "2. ¿Qué hipótesis podrías plantear sobre el vínculo entre satisfacción y soledad?\n",
    "Las personas que tienen una alta satisfacción tienen niveles muy bajos de soledad, seguramente sean personas que saben disfrutar su tiempo solos o cuentan con la compañia adecuada."
   ]
  },
  {
   "cell_type": "markdown",
   "metadata": {},
   "source": [
    "---\n",
    "\n",
    "## Paso 7: Guardado de Resultados\n",
    "\n",
    "Filtra el dataset para encontrar a las personas que reciben terapia y que además tienen un nivel bajo de estrés (por debajo de la mediana). Una vez que tengas este subconjunto, guarda la información en un nuevo archivo CSV para tenerlo listo para futuros análisis."
   ]
  },
  {
   "cell_type": "code",
   "execution_count": 20,
   "metadata": {},
   "outputs": [],
   "source": [
    "df_fact_sm_low_stress = df_factores_salud_mental[\n",
    "    (df_factores_salud_mental[\"Therapy\"] == 1)\n",
    "    & (df_factores_salud_mental[\"Stress_Level\"] < df_factores_salud_mental[\"Stress_Level\"].median())\n",
    "]"
   ]
  },
  {
   "cell_type": "code",
   "execution_count": 21,
   "metadata": {},
   "outputs": [],
   "source": [
    "df_fact_sm_low_stress.to_csv(\"dataset/mental_healt_therapy_low_stress.csv\")"
   ]
  },
  {
   "cell_type": "markdown",
   "metadata": {},
   "source": [
    "1. ¿Cuántas personas cumplen con ambas condiciones?"
   ]
  },
  {
   "cell_type": "code",
   "execution_count": 22,
   "metadata": {},
   "outputs": [
    {
     "data": {
      "text/plain": [
       "108"
      ]
     },
     "execution_count": 22,
     "metadata": {},
     "output_type": "execute_result"
    }
   ],
   "source": [
    "df_fact_sm_low_stress.shape[0]"
   ]
  },
  {
   "cell_type": "markdown",
   "metadata": {},
   "source": [
    "2. ¿Qué conclusiones puedes hacer sobre la relación entre terapia y nivel de estrés en este conjunto?  \n",
    "Que las personas que asisten a terapia, cuentan con niveles más bajos (hasta el triple menos) que la población en general "
   ]
  },
  {
   "cell_type": "code",
   "execution_count": 23,
   "metadata": {},
   "outputs": [
    {
     "name": "stdout",
     "output_type": "stream",
     "text": [
      "(2.574074074074074, 5.0008333333333335)\n",
      "(1.0608029378571802, 2.538280591763709)\n"
     ]
    }
   ],
   "source": [
    "print((df_fact_sm_low_stress[\"Stress_Level\"].mean(), df_factores_salud_mental[\"Stress_Level\"].mean()))\n",
    "print((df_fact_sm_low_stress[\"Stress_Level\"].std(), df_factores_salud_mental[\"Stress_Level\"].std()))"
   ]
  },
  {
   "cell_type": "markdown",
   "metadata": {},
   "source": [
    "---\n",
    "\n",
    "## Paso 8: Visualización Opcional\n",
    "\n",
    "Para finalizar, crea un gráfico que muestre la media de autoestima (`Self_Esteem_Score`) según el género. Observa si hay diferencias entre géneros y reflexiona sobre los factores que podrían influir en esos resultados."
   ]
  },
  {
   "cell_type": "code",
   "execution_count": 24,
   "metadata": {},
   "outputs": [],
   "source": [
    "import matplotlib.pyplot as plt"
   ]
  },
  {
   "cell_type": "code",
   "execution_count": 25,
   "metadata": {},
   "outputs": [
    {
     "data": {
      "text/plain": [
       "Gender\n",
       "Female        5.231986\n",
       "Male          5.023077\n",
       "Non-Binary    4.600000\n",
       "Other         3.428571\n",
       "Name: Self_Esteem_Score, dtype: float64"
      ]
     },
     "execution_count": 25,
     "metadata": {},
     "output_type": "execute_result"
    }
   ],
   "source": [
    "df_gender_self_esteem = df_factores_salud_mental.groupby(\"Gender\")[\"Self_Esteem_Score\"].mean()\n",
    "df_gender_self_esteem"
   ]
  },
  {
   "cell_type": "code",
   "execution_count": 26,
   "metadata": {},
   "outputs": [
    {
     "data": {
      "image/png": "[encoded data removed]",
      "text/plain": [
       "<Figure size 800x600 with 1 Axes>"
      ]
     },
     "metadata": {},
     "output_type": "display_data"
    }
   ],
   "source": [
    "df_gender_self_esteem.plot(kind=\"bar\", figsize=(8, 6), color='skyblue', legend=False)\n",
    "plt.title(\"Media de Autoestima según Género\", fontsize=16)\n",
    "plt.xlabel(\"Género\", fontsize=12)\n",
    "plt.ylabel(\"Media de Autoestima\", fontsize=12)\n",
    "plt.show()"
   ]
  },
  {
   "cell_type": "markdown",
   "metadata": {},
   "source": [
    "1. ¿Hay diferencias notables entre los géneros en cuanto a autoestima?"
   ]
  },
  {
   "cell_type": "markdown",
   "metadata": {},
   "source": [
    "No se parecia una diferencia notable entre los generos masculino y feminino, pero se notan diferencias más notables entre masculino y no-binario y con mayor notoriedad entre masculino y la clasifiación \"otro\""
   ]
  },
  {
   "cell_type": "markdown",
   "metadata": {},
   "source": [
    "2. ¿Qué factores del dataset podrían explicar estas diferencias?"
   ]
  },
  {
   "cell_type": "code",
   "execution_count": 27,
   "metadata": {},
   "outputs": [
    {
     "data": {
      "text/html": [
       "<div>\n",
       "<style scoped>\n",
       "    .dataframe tbody tr th:only-of-type {\n",
       "        vertical-align: middle;\n",
       "    }\n",
       "\n",
       "    .dataframe tbody tr th {\n",
       "        vertical-align: top;\n",
       "    }\n",
       "\n",
       "    .dataframe thead tr th {\n",
       "        text-align: left;\n",
       "    }\n",
       "\n",
       "    .dataframe thead tr:last-of-type th {\n",
       "        text-align: right;\n",
       "    }\n",
       "</style>\n",
       "<table border=\"1\" class=\"dataframe\">\n",
       "  <thead>\n",
       "    <tr>\n",
       "      <th></th>\n",
       "      <th colspan=\"3\" halign=\"left\">Social_Support_Score</th>\n",
       "      <th colspan=\"3\" halign=\"left\">Depression_Score</th>\n",
       "      <th colspan=\"3\" halign=\"left\">Stress_Level</th>\n",
       "    </tr>\n",
       "    <tr>\n",
       "      <th></th>\n",
       "      <th>mean</th>\n",
       "      <th>median</th>\n",
       "      <th>std</th>\n",
       "      <th>mean</th>\n",
       "      <th>median</th>\n",
       "      <th>std</th>\n",
       "      <th>mean</th>\n",
       "      <th>median</th>\n",
       "      <th>std</th>\n",
       "    </tr>\n",
       "    <tr>\n",
       "      <th>Gender</th>\n",
       "      <th></th>\n",
       "      <th></th>\n",
       "      <th></th>\n",
       "      <th></th>\n",
       "      <th></th>\n",
       "      <th></th>\n",
       "      <th></th>\n",
       "      <th></th>\n",
       "      <th></th>\n",
       "    </tr>\n",
       "  </thead>\n",
       "  <tbody>\n",
       "    <tr>\n",
       "      <th>Female</th>\n",
       "      <td>4.985940</td>\n",
       "      <td>5.0</td>\n",
       "      <td>2.655677</td>\n",
       "      <td>10.490334</td>\n",
       "      <td>11.0</td>\n",
       "      <td>5.672114</td>\n",
       "      <td>4.927944</td>\n",
       "      <td>5.0</td>\n",
       "      <td>2.552976</td>\n",
       "    </tr>\n",
       "    <tr>\n",
       "      <th>Male</th>\n",
       "      <td>5.113462</td>\n",
       "      <td>5.0</td>\n",
       "      <td>2.662197</td>\n",
       "      <td>10.771154</td>\n",
       "      <td>11.0</td>\n",
       "      <td>5.582412</td>\n",
       "      <td>5.048077</td>\n",
       "      <td>5.0</td>\n",
       "      <td>2.548111</td>\n",
       "    </tr>\n",
       "    <tr>\n",
       "      <th>Non-Binary</th>\n",
       "      <td>5.500000</td>\n",
       "      <td>6.0</td>\n",
       "      <td>2.553913</td>\n",
       "      <td>11.111111</td>\n",
       "      <td>12.0</td>\n",
       "      <td>5.434894</td>\n",
       "      <td>5.122222</td>\n",
       "      <td>5.0</td>\n",
       "      <td>2.378876</td>\n",
       "    </tr>\n",
       "    <tr>\n",
       "      <th>Other</th>\n",
       "      <td>3.571429</td>\n",
       "      <td>3.0</td>\n",
       "      <td>2.292846</td>\n",
       "      <td>11.380952</td>\n",
       "      <td>13.0</td>\n",
       "      <td>6.763699</td>\n",
       "      <td>5.285714</td>\n",
       "      <td>6.0</td>\n",
       "      <td>2.667262</td>\n",
       "    </tr>\n",
       "  </tbody>\n",
       "</table>\n",
       "</div>"
      ],
      "text/plain": [
       "           Social_Support_Score                  Depression_Score          \n",
       "                           mean median       std             mean median   \n",
       "Gender                                                                     \n",
       "Female                 4.985940    5.0  2.655677        10.490334   11.0  \\\n",
       "Male                   5.113462    5.0  2.662197        10.771154   11.0   \n",
       "Non-Binary             5.500000    6.0  2.553913        11.111111   12.0   \n",
       "Other                  3.571429    3.0  2.292846        11.380952   13.0   \n",
       "\n",
       "                     Stress_Level                   \n",
       "                 std         mean median       std  \n",
       "Gender                                              \n",
       "Female      5.672114     4.927944    5.0  2.552976  \n",
       "Male        5.582412     5.048077    5.0  2.548111  \n",
       "Non-Binary  5.434894     5.122222    5.0  2.378876  \n",
       "Other       6.763699     5.285714    6.0  2.667262  "
      ]
     },
     "execution_count": 27,
     "metadata": {},
     "output_type": "execute_result"
    }
   ],
   "source": [
    "\n",
    "df_factores_salud_mental[\n",
    "    [\"Gender\", \"Social_Support_Score\", \"Depression_Score\", \"Stress_Level\"]\n",
    "].groupby(\n",
    "    \"Gender\"\n",
    ").agg(\n",
    "    [\"mean\", \"median\", \"std\"]\n",
    ")"
   ]
  },
  {
   "cell_type": "markdown",
   "metadata": {},
   "source": [
    "- Las personas podrían sentirse más apoyadas emocionalmente por sus redes de apoyo, lo que les ayuda a tener una autoestima más alta.\n",
    "- Si las personas tienen mayores niveles de depresión, esto podría estar afectando su autoestima.\n",
    "- Las personas con niveles de estrés más bajos podrían tener una autoestima más alta."
   ]
  }
 ],
 "metadata": {
  "kernelspec": {
   "display_name": "Python 3",
   "language": "python",
   "name": "python3"
  },
  "language_info": {
   "codemirror_mode": {
    "name": "ipython",
    "version": 3
   },
   "file_extension": ".py",
   "mimetype": "text/x-python",
   "name": "python",
   "nbconvert_exporter": "python",
   "pygments_lexer": "ipython3",
   "version": "3.10.12"
  }
 },
 "nbformat": 4,
 "nbformat_minor": 2
}
